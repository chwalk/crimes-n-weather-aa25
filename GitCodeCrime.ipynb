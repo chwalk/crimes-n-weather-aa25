{
 "cells": [
  {
   "cell_type": "markdown",
   "metadata": {},
   "source": [
    "Crime and weather in Chicago "
   ]
  },
  {
   "cell_type": "markdown",
   "metadata": {},
   "source": [
    "Crime Count & weekly average crime rate chart over the years"
   ]
  },
  {
   "cell_type": "code",
   "execution_count": null,
   "metadata": {},
   "outputs": [],
   "source": [
    "daily_count = pd.read_csv('daily_crimes_count.csv')\n",
    "\n",
    "daily_count['Date'] = pd.to_datetime(daily_count['Date'])"
   ]
  },
  {
   "cell_type": "code",
   "execution_count": null,
   "metadata": {},
   "outputs": [],
   "source": [
    "# Set 'Date' as index\n",
    "daily_count.set_index('Date', inplace=True)\n",
    " \n",
    "#Resample to weekly data and calculate the mean\n",
    "weekly_counts = daily_count['NumberofCrimes'].resample('W').mean()"
   ]
  },
  {
   "cell_type": "code",
   "execution_count": null,
   "metadata": {},
   "outputs": [],
   "source": [
    "# Create the plot\n",
    "plt.figure(figsize=(15, 6))\n",
    "plt.plot(weekly_counts.index, weekly_counts.values, linestyle='-')\n",
    " \n",
    "# Customize the plot\n",
    "plt.title('Weekly Crime Counts Over Time')\n",
    "plt.xlabel('Week')\n",
    "plt.ylabel('Average Number of Crimes')\n",
    "plt.grid(True)\n",
    "plt.xticks(rotation=45)\n",
    " \n",
    "# Set x-axis limits\n",
    "plt.xlim(pd.to_datetime('2001-01-01'), weekly_counts.index.max())\n",
    " \n",
    "\n",
    "# Show the plot\n",
    "plt.tight_layout()\n",
    "plt.show()"
   ]
  },
  {
   "cell_type": "markdown",
   "metadata": {},
   "source": [
    "Checking assumptions for linear model"
   ]
  },
  {
   "cell_type": "code",
   "execution_count": null,
   "metadata": {},
   "outputs": [],
   "source": [
    "# Fit the Linear Regression Model\n",
    "model = lm.LinearRegression()\n",
    "model.fit(X, y)\n",
    "y_pred = model.predict(X)"
   ]
  },
  {
   "cell_type": "code",
   "execution_count": null,
   "metadata": {},
   "outputs": [],
   "source": [
    "# Calculate Residuals\n",
    "residuals = y - y_pred"
   ]
  },
  {
   "cell_type": "code",
   "execution_count": null,
   "metadata": {},
   "outputs": [],
   "source": [
    "#  Test Linearity (Scatter Plot and Residual Plot)\n",
    "plt.figure(figsize=(12, 5))\n",
    " \n",
    "plt.subplot(1, 2, 1)\n",
    "sns.scatterplot(x='Temp', y='NumberofCrimes', data=merged_df)\n",
    "plt.plot(X, y_pred, color='red')  # Regression line\n",
    "plt.title('Number of Crimes vs. Temperature')\n",
    "plt.subplot(1, 2, 2)\n",
    "sns.scatterplot(x=y_pred, y=residuals)\n",
    "plt.axhline(y=0, color='r', linestyle='--')  # Horizontal line at 0\n",
    "plt.title('Residuals vs. Predicted Values')\n",
    " \n",
    "plt.show()"
   ]
  },
  {
   "cell_type": "code",
   "execution_count": null,
   "metadata": {},
   "outputs": [],
   "source": [
    "# Test Independence (Durbin-Watson Test)\n",
    "from statsmodels.stats.stattools import durbin_watson\n",
    "dw = durbin_watson(residuals)\n",
    "print(f\"Durbin-Watson statistic: {dw}\")\n",
    "print('0 to 2: Indicates positive autocorrelation (errors are positively correlated).')\n",
    "print('Dataset is not independent... there is a temporal dependence, because its a time series')"
   ]
  },
  {
   "cell_type": "code",
   "execution_count": null,
   "metadata": {},
   "outputs": [],
   "source": [
    "# Test Normality of Errors (Histogram and Q-Q Plot)\n",
    "plt.figure(figsize=(12, 5))\n",
    " \n",
    "plt.subplot(1, 2, 1)\n",
    "sns.histplot(residuals, kde=True)\n",
    "plt.title('Histogram of Residuals')\n",
    " \n",
    "plt.subplot(1, 2, 2)\n",
    "sm.qqplot(residuals, line='s', ax=plt.gca())\n",
    "plt.title('Q-Q Plot of Residuals')"
   ]
  },
  {
   "cell_type": "markdown",
   "metadata": {},
   "source": [
    "**Assumptions:**\n",
    "\n",
    "Linear ✔\n",
    "\n",
    "Homoscedastic ✔\n",
    "\n",
    "Independent ✘\n",
    "\n",
    "Normal ✘"
   ]
  }
 ],
 "metadata": {
  "kernelspec": {
   "display_name": "Python 3",
   "language": "python",
   "name": "python3"
  },
  "language_info": {
   "name": "python",
   "version": "3.11.9"
  }
 },
 "nbformat": 4,
 "nbformat_minor": 2
}
